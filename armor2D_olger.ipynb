{
 "cells": [
  {
   "cell_type": "code",
   "execution_count": 1,
   "metadata": {},
   "outputs": [],
   "source": [
    "# importaciones necesarias\n",
    "import pprint\n",
    "import json\n",
    "import numpy as np\n",
    "import pandas as pd\n",
    "import matplotlib.pyplot as plt\n",
    "import ipywidgets\n",
    "from IPython.display import display, clear_output\n",
    "\n",
    "pd.set_option('display.precision',2)\n",
    "np.set_printoptions(precision=4,suppress=True)\n"
   ]
  },
  {
   "attachments": {},
   "cell_type": "markdown",
   "metadata": {},
   "source": [
    "# Método matricial de rigideces - Armaduras 2D"
   ]
  },
  {
   "attachments": {},
   "cell_type": "markdown",
   "metadata": {},
   "source": [
    "## Clases para el input de datos"
   ]
  },
  {
   "attachments": {},
   "cell_type": "markdown",
   "metadata": {},
   "source": [
    "### Creando el input para los vertices"
   ]
  },
  {
   "cell_type": "code",
   "execution_count": 2,
   "metadata": {},
   "outputs": [],
   "source": [
    "class Vertices:\n",
    "    def __init__(\n",
    "        self,\n",
    "        axis=None,\n",
    "    ):\n",
    "        if axis is None:\n",
    "            self.axis = [\"x\", \"y\"]\n",
    "        else:\n",
    "            self.axis = axis\n",
    "        self.data = {}\n",
    "        self.restrictedDOFs = 0\n",
    "        self.unrestrictedDOFs = 0\n",
    "        self.numberOfDOFs = 0\n",
    "\n",
    "    def add(self, name, coordinates, forces, displacements, isRestricted, springs =None):\n",
    "        # parametros por defecto\n",
    "        if springs is None:\n",
    "            springs = {\"x\": 0, \"y\": 0}\n",
    "\n",
    "        # validaciones\n",
    "        # verificar si el name ya existe\n",
    "        if name in self.data:\n",
    "            raise Exception(\n",
    "                \"El nodo ya existe! los nodos deben tener un nombtre único.\"\n",
    "            )\n",
    "\n",
    "        # verificar si los grados de libertad restringidos no\n",
    "        #  tengan una fuerza aplicada\n",
    "        for a in self.axis:\n",
    "            if isRestricted[a] and forces[a] != 0:\n",
    "                raise Exception(\n",
    "                    f\"El vertice {name} tiene el eje {a} restringido, por lo tanto, no puede tener una fuerza aplicada.\"\n",
    "                )\n",
    "            elif not (isRestricted[a]) and displacements[a] != 0:\n",
    "                raise Exception(\n",
    "                    f\"El vertice {name} tiene el eje {a} no restringido, por lo tanto, no puede tener un desplazamiento.\"\n",
    "                )\n",
    "\n",
    "        # verificar si un grado de libertad que posee un resorte, no este restringido\n",
    "\n",
    "        for a in self.axis:\n",
    "            # si el DOF tiene un resorte\n",
    "            if springs[a] != 0:\n",
    "                # debe estar restringido\n",
    "                if isRestricted[a]:\n",
    "                    raise Exception(\n",
    "                        f\"El vertice {name} en el eje {a} tiene un resorte y esta restringido, el grado de libertad no puede estar restringido, ya que de ser asi calculariamos la reacción, pero lo que queremos calcular en ese grado de libertad es el desplazamiento, con el que podras calcular la fuerza interna del resorte.\"\n",
    "                    )\n",
    "\n",
    "        for e in self.axis:\n",
    "            if isRestricted[e]:\n",
    "                self.restrictedDOFs += 1\n",
    "            else:\n",
    "                self.unrestrictedDOFs += 1\n",
    "            self.numberOfDOFs += 1\n",
    "\n",
    "        # agregamos el identificador unico para cada grado de libertad\n",
    "\n",
    "        DOF = {}\n",
    "\n",
    "        enumerator = len(self.data) * len(self.axis)\n",
    "\n",
    "        for index, e in enumerate(self.axis):\n",
    "            DOF[e] = enumerator + index\n",
    "\n",
    "        self.data[name] = {\n",
    "            \"coordinates\": coordinates,\n",
    "            \"forces\": forces,\n",
    "            \"displacements\": displacements,\n",
    "            \"isRestricted\": isRestricted,\n",
    "            \"DOF\": DOF,\n",
    "            \"springs\": springs\n",
    "        }\n",
    "\n",
    "    def getData(self):\n",
    "        return {\n",
    "            \"data\": self.data,\n",
    "            \"restrictedDOFs\": self.restrictedDOFs,\n",
    "            \"unrestrictedDOFs\": self.unrestrictedDOFs,\n",
    "            \"numberOfDOFs\": self.numberOfDOFs,\n",
    "            \"axis\": self.axis,\n",
    "        }\n"
   ]
  },
  {
   "attachments": {},
   "cell_type": "markdown",
   "metadata": {},
   "source": [
    "### Creando el input de los edges:"
   ]
  },
  {
   "cell_type": "code",
   "execution_count": 3,
   "metadata": {},
   "outputs": [],
   "source": [
    "class Edges:\n",
    "    def __init__(self, vertices) -> None:\n",
    "        self.data = {}\n",
    "        self.vertices = vertices\n",
    "        self.verticesData = vertices[\"data\"]\n",
    "\n",
    "    def add(self, name, vertexFrom, vertexTo, area, elasticidad):\n",
    "        # validaciones\n",
    "        # verificamos si el name ya existe:\n",
    "        if name in self.data:\n",
    "            raise Exception(\n",
    "                \"El nodo ya existe! los nodos deben tener un nombtre único.\"\n",
    "            )\n",
    "        # verificamos si el nombre del vertice que viene es valido\n",
    "        if vertexFrom not in self.verticesData:\n",
    "            raise Exception(\n",
    "                \"El nombre del vertice del que viene, es incorrecto! verifica si este existe en los vertices.\"\n",
    "            )\n",
    "        # verificamos si el nombre del vertice al que va es valido\n",
    "        if vertexTo not in self.verticesData:\n",
    "            raise Exception(\n",
    "                \"El nombre del vertice al que va, es incorrecto! verifica si este existe en los vertices.\"\n",
    "            )\n",
    "\n",
    "        fromX = self.verticesData[vertexFrom][\"coordinates\"][\"x\"]\n",
    "        fromY = self.verticesData[vertexFrom][\"coordinates\"][\"y\"]\n",
    "\n",
    "        toY = self.verticesData[vertexTo][\"coordinates\"][\"y\"]\n",
    "        toX = self.verticesData[vertexTo][\"coordinates\"][\"x\"]\n",
    "\n",
    "        longitud = ((toX - fromX) ** 2 + (toY - fromY) ** 2) ** 0.5\n",
    "        rigidez = elasticidad * area / longitud\n",
    "\n",
    "        cos = (toX - fromX) / longitud\n",
    "        sin = (toY - fromY) / longitud\n",
    "\n",
    "        fromDOFx = self.verticesData[vertexFrom][\"DOF\"][\"x\"]\n",
    "        fromDOFy = self.verticesData[vertexFrom][\"DOF\"][\"y\"]\n",
    "        toDOFx = self.verticesData[vertexTo][\"DOF\"][\"x\"]\n",
    "        toDOFy = self.verticesData[vertexTo][\"DOF\"][\"y\"]\n",
    "\n",
    "        tableDOF = [\n",
    "            fromDOFx,\n",
    "            fromDOFy,\n",
    "            toDOFx,\n",
    "            toDOFy,\n",
    "        ]\n",
    "\n",
    "        self.data[name] = {\n",
    "            \"name\": name,\n",
    "            \"area\": area,\n",
    "            \"elasticidad\": elasticidad,\n",
    "            \"longitud\": longitud,\n",
    "            \"rigidez\": rigidez,\n",
    "            \"cos\": cos,\n",
    "            \"sin\": sin,\n",
    "            \"tableDOF\": tableDOF,\n",
    "            \"coordinates\": {\"xi\": fromX, \"xj\": toX , \"yi\": fromY , \"yj\": toY},\n",
    "        }\n",
    "\n",
    "    def getData(self):\n",
    "        return {\"edges\": self.data, \"vertices\": self.vertices}\n"
   ]
  },
  {
   "attachments": {},
   "cell_type": "markdown",
   "metadata": {},
   "source": [
    "## Input de datos"
   ]
  },
  {
   "attachments": {},
   "cell_type": "markdown",
   "metadata": {},
   "source": [
    "### Vertices"
   ]
  },
  {
   "cell_type": "code",
   "execution_count": 4,
   "metadata": {},
   "outputs": [
    {
     "name": "stdout",
     "output_type": "stream",
     "text": [
      "{'axis': ['x', 'y'],\n",
      " 'data': {'v1': {'DOF': {'x': 0, 'y': 1},\n",
      "                 'coordinates': {'x': 36, 'y': -72},\n",
      "                 'displacements': {'x': 0, 'y': 0},\n",
      "                 'forces': {'x': 5000, 'y': 0},\n",
      "                 'isRestricted': {'x': False, 'y': False},\n",
      "                 'springs': {'x': 0, 'y': 0}},\n",
      "          'v2': {'DOF': {'x': 2, 'y': 3},\n",
      "                 'coordinates': {'x': 0, 'y': 0},\n",
      "                 'displacements': {'x': 0, 'y': 0},\n",
      "                 'forces': {'x': 0, 'y': 0},\n",
      "                 'isRestricted': {'x': True, 'y': True},\n",
      "                 'springs': {'x': 0, 'y': 0}},\n",
      "          'v3': {'DOF': {'x': 4, 'y': 5},\n",
      "                 'coordinates': {'x': 36, 'y': 0},\n",
      "                 'displacements': {'x': 0, 'y': 0},\n",
      "                 'forces': {'x': 0, 'y': 0},\n",
      "                 'isRestricted': {'x': True, 'y': True},\n",
      "                 'springs': {'x': 0, 'y': 0}},\n",
      "          'v4': {'DOF': {'x': 6, 'y': 7},\n",
      "                 'coordinates': {'x': 72, 'y': 0},\n",
      "                 'displacements': {'x': 0, 'y': 0},\n",
      "                 'forces': {'x': 0, 'y': 0},\n",
      "                 'isRestricted': {'x': True, 'y': True},\n",
      "                 'springs': {'x': 0, 'y': 0}}},\n",
      " 'numberOfDOFs': 8,\n",
      " 'restrictedDOFs': 6,\n",
      " 'unrestrictedDOFs': 2}\n"
     ]
    }
   ],
   "source": [
    "verticesInstance = Vertices([\"x\", \"y\"])\n",
    "\n",
    "verticesInstance.add(\n",
    "    name=\"v1\",\n",
    "    coordinates={\"x\": 3*12, \"y\": -6*12},\n",
    "    forces={\"x\": 5000, \"y\": 0},\n",
    "    displacements={\"x\": 0, \"y\": 0},\n",
    "    isRestricted={\"x\": False, \"y\": False},\n",
    ")\n",
    "verticesInstance.add(\n",
    "    name=\"v2\",\n",
    "    coordinates={\"x\": 0, \"y\": 0},\n",
    "    forces={\"x\": 0, \"y\": 0},\n",
    "    displacements={\"x\": 0, \"y\": 0},\n",
    "    isRestricted={\"x\": True, \"y\": True},\n",
    ")\n",
    "verticesInstance.add(\n",
    "    name=\"v3\",\n",
    "    coordinates={\"x\": 3*12, \"y\": 0},\n",
    "    forces={\"x\": 0, \"y\": 0},\n",
    "    displacements={\"x\": 0, \"y\": 0},\n",
    "    isRestricted={\"x\": True, \"y\": True},\n",
    ")\n",
    "verticesInstance.add(\n",
    "    name=\"v4\",\n",
    "    coordinates={\"x\": 6*12, \"y\": 0},\n",
    "    forces={\"x\": 0, \"y\": 0},\n",
    "    displacements={\"x\": 0, \"y\": 0},\n",
    "    isRestricted={\"x\": True, \"y\": True},\n",
    ")\n",
    "\n",
    "\n",
    "dataVertices=verticesInstance.getData()\n",
    "pprint.pprint(dataVertices)"
   ]
  },
  {
   "attachments": {},
   "cell_type": "markdown",
   "metadata": {},
   "source": [
    "### Edges"
   ]
  },
  {
   "cell_type": "code",
   "execution_count": 5,
   "metadata": {},
   "outputs": [
    {
     "name": "stdout",
     "output_type": "stream",
     "text": [
      "{'e1': {'area': 2,\n",
      "        'coordinates': {'xi': 0, 'xj': 36, 'yi': 0, 'yj': -72},\n",
      "        'cos': 0.4472135954999579,\n",
      "        'elasticidad': 10000000,\n",
      "        'longitud': 80.49844718999243,\n",
      "        'name': 'e1',\n",
      "        'rigidez': 248451.99749997663,\n",
      "        'sin': -0.8944271909999159,\n",
      "        'tableDOF': [2, 3, 0, 1]},\n",
      " 'e2': {'area': 2,\n",
      "        'coordinates': {'xi': 36, 'xj': 36, 'yi': 0, 'yj': -72},\n",
      "        'cos': 0.0,\n",
      "        'elasticidad': 10000000,\n",
      "        'longitud': 72.0,\n",
      "        'name': 'e2',\n",
      "        'rigidez': 277777.77777777775,\n",
      "        'sin': -1.0,\n",
      "        'tableDOF': [4, 5, 0, 1]},\n",
      " 'e3': {'area': 2,\n",
      "        'coordinates': {'xi': 72, 'xj': 36, 'yi': 0, 'yj': -72},\n",
      "        'cos': -0.4472135954999579,\n",
      "        'elasticidad': 10000000,\n",
      "        'longitud': 80.49844718999243,\n",
      "        'name': 'e3',\n",
      "        'rigidez': 248451.99749997663,\n",
      "        'sin': -0.8944271909999159,\n",
      "        'tableDOF': [6, 7, 0, 1]}}\n"
     ]
    }
   ],
   "source": [
    "edgesInstance = Edges(dataVertices)\n",
    "areaConstante=1\n",
    "elasticidadConstante=1*10**7\n",
    "\n",
    "edgesInstance.add(\n",
    "    name=\"e1\",\n",
    "    vertexFrom=\"v2\",\n",
    "    vertexTo=\"v1\",\n",
    "    area=2,\n",
    "    elasticidad=1 * 10**7,\n",
    ")\n",
    "edgesInstance.add(\n",
    "    name=\"e2\",\n",
    "    vertexFrom=\"v3\",\n",
    "    vertexTo=\"v1\",\n",
    "    area=2,\n",
    "    elasticidad=1 * 10**7,\n",
    ")\n",
    "edgesInstance.add(\n",
    "    name=\"e3\",\n",
    "    vertexFrom=\"v4\",\n",
    "    vertexTo=\"v1\",\n",
    "    area=2,\n",
    "    elasticidad=1 * 10**7,\n",
    ")\n",
    "\n",
    "\n",
    "dataEdgesFullData = edgesInstance.getData()\n",
    "dataEdges = edgesInstance.getData()['edges']\n",
    "\n",
    "pprint.pprint(dataEdges)\n"
   ]
  },
  {
   "attachments": {},
   "cell_type": "markdown",
   "metadata": {},
   "source": [
    "## Esquema del ejercicio:"
   ]
  },
  {
   "cell_type": "code",
   "execution_count": 6,
   "metadata": {},
   "outputs": [
    {
     "data": {
      "application/vnd.jupyter.widget-view+json": {
       "model_id": "797b99c05e0b471d98179582dff2c1fb",
       "version_major": 2,
       "version_minor": 0
      },
      "text/plain": [
       "interactive(children=(FloatSlider(value=0.5, description='headWidth', max=1.0), FloatSlider(value=0.5, descrip…"
      ]
     },
     "metadata": {},
     "output_type": "display_data"
    }
   ],
   "source": [
    "def graph(headWidth, headLength, lengthArrow, textOffset, fontsize):\n",
    "    esquema = plt.figure()\n",
    "    axes = esquema.add_axes([0.1, 0.1, 3, 3])\n",
    "    esquema.gca().set_aspect('equal',adjustable='box')\n",
    "\n",
    "    for key, value in dataEdges.items():\n",
    "        xi = value[\"coordinates\"][\"xi\"]\n",
    "        yi = value[\"coordinates\"][\"yi\"]\n",
    "        xj = value[\"coordinates\"][\"xj\"]\n",
    "        yj = value[\"coordinates\"][\"yj\"]\n",
    "        axes.plot([xi, xj], [yi, yj], \"b\")\n",
    "    for key, value in dataVertices[\"data\"].items():\n",
    "        x = value[\"coordinates\"][\"x\"]\n",
    "        y = value[\"coordinates\"][\"y\"]\n",
    "        axes.plot([x], [y], \"bo\")\n",
    "\n",
    "        for axis in dataVertices[\"axis\"]:\n",
    "            force = value[\"forces\"][axis]\n",
    "            # solo imprimir los no restringidos\n",
    "            # y solo si el valor es mayor que 0.1\n",
    "            if abs(force) > 0.01 and value[\"isRestricted\"][axis] == False:\n",
    "                # fuerzas positivas\n",
    "                if force > 0:\n",
    "                    if axis == \"x\":\n",
    "                        xOffset = x - (lengthArrow + headLength)\n",
    "                        yOffset = y \n",
    "                        plt.arrow(\n",
    "                            x,\n",
    "                            y,\n",
    "                            lengthArrow,\n",
    "                            0,\n",
    "                            head_width=headWidth,\n",
    "                            head_length=headLength,\n",
    "                            color=\"black\",\n",
    "                        )\n",
    "                        axes.text(\n",
    "                            x + (lengthArrow + headLength) / 2,\n",
    "                            y - textOffset,\n",
    "                            str(force),\n",
    "                            color=\"green\",\n",
    "                            fontsize=fontsize,\n",
    "                        )\n",
    "                    elif axis == \"y\":\n",
    "                        xOffset = x\n",
    "                        yOffset = y - (lengthArrow + headLength)\n",
    "                        plt.arrow(\n",
    "                            x,\n",
    "                            y,\n",
    "                            0,\n",
    "                            lengthArrow,\n",
    "                            head_width=headWidth,\n",
    "                            head_length=headLength,\n",
    "                            color=\"black\",\n",
    "                        )\n",
    "                        axes.text(\n",
    "                            x + textOffset,\n",
    "                            y + (lengthArrow + headLength) / 2,\n",
    "                            str(force),\n",
    "                            color=\"green\",\n",
    "                            fontsize=fontsize,\n",
    "                        )\n",
    "                # fuerzas negativas\n",
    "                else:\n",
    "                    if axis == \"x\":\n",
    "                        xOffset = x - (lengthArrow + headLength)\n",
    "                        yOffset = y \n",
    "                        plt.arrow(\n",
    "                            xOffset,\n",
    "                            y,\n",
    "                            lengthArrow,\n",
    "                            0,\n",
    "                            head_width=headWidth,\n",
    "                            head_length=headLength,\n",
    "                            color=\"black\",\n",
    "                        )\n",
    "                        axes.text(\n",
    "                            x - (lengthArrow + headLength) / 2,\n",
    "                            y - textOffset,\n",
    "                            str(force),\n",
    "                            color=\"green\",\n",
    "                            fontsize=fontsize,\n",
    "                        )\n",
    "                    elif axis == \"y\":\n",
    "                        xOffset = x\n",
    "                        yOffset = y + (lengthArrow + headLength)\n",
    "                        plt.arrow(\n",
    "                            x,\n",
    "                            yOffset,\n",
    "                            0,\n",
    "                            -lengthArrow,\n",
    "                            head_width=headWidth,\n",
    "                            head_length=headLength,\n",
    "                            color=\"black\",\n",
    "                        )\n",
    "                        axes.text(\n",
    "                            x + textOffset,\n",
    "                            y + (lengthArrow + headLength) / 2,\n",
    "                            str(force),\n",
    "                            color=\"green\",\n",
    "                            fontsize=fontsize,\n",
    "                        )\n",
    "\n",
    "    axes.set_xlabel(\"Distance (m)\")\n",
    "    axes.set_ylabel(\"Distance (m)\")\n",
    "    axes.set_title(\"Structure to analyse\")\n",
    "    axes.grid()\n",
    "    plt.show()\n",
    "\n",
    "\n",
    "_ = ipywidgets.interact(\n",
    "    graph,\n",
    "    headWidth=(0.0, 1.0, 0.1),\n",
    "    headLength=(0.0, 1.0, 0.1),\n",
    "    lengthArrow=(0.0, 2.0, 0.1),\n",
    "    textOffset=(0.0, 2.0, 0.1),\n",
    "    fontsize=(8, 42, 1),\n",
    ")\n"
   ]
  },
  {
   "attachments": {},
   "cell_type": "markdown",
   "metadata": {},
   "source": [
    "## Logica para las armaduras"
   ]
  },
  {
   "attachments": {},
   "cell_type": "markdown",
   "metadata": {},
   "source": [
    "### Generando matrices locales de rigideces"
   ]
  },
  {
   "cell_type": "code",
   "execution_count": 7,
   "metadata": {},
   "outputs": [
    {
     "name": "stdout",
     "output_type": "stream",
     "text": [
      "\n",
      " Matrices locales de rigidez del elemento e1 \n",
      "\n",
      "\n",
      " Matriz local de rigideces en coordenadas locales sin el factor EA: \n",
      "\n",
      "[[ 0.0124 -0.0124]\n",
      " [-0.0124  0.0124]]\n",
      "\n",
      " Matriz local de rigideces en coordenadas locales con el factor EA: \n",
      "\n",
      "[[ 248451.9975 -248451.9975]\n",
      " [-248451.9975  248451.9975]]\n",
      "\n",
      " Matriz local de rigideces en coordenadas globales sin el factor EA: \n",
      "\n",
      "[[ 0.0025 -0.005  -0.0025  0.005 ]\n",
      " [-0.005   0.0099  0.005  -0.0099]\n",
      " [-0.0025  0.005   0.0025 -0.005 ]\n",
      " [ 0.005  -0.0099 -0.005   0.0099]]\n",
      "\n",
      " Matriz local de rigideces en coordenadas globales sin el factor EA: \n",
      "\n",
      "[[  49690.3995  -99380.799   -49690.3995   99380.799 ]\n",
      " [ -99380.799   198761.598    99380.799  -198761.598 ]\n",
      " [ -49690.3995   99380.799    49690.3995  -99380.799 ]\n",
      " [  99380.799  -198761.598   -99380.799   198761.598 ]]\n",
      "\n",
      " Matrices locales de rigidez del elemento e2 \n",
      "\n",
      "\n",
      " Matriz local de rigideces en coordenadas locales sin el factor EA: \n",
      "\n",
      "[[ 0.0139 -0.0139]\n",
      " [-0.0139  0.0139]]\n",
      "\n",
      " Matriz local de rigideces en coordenadas locales con el factor EA: \n",
      "\n",
      "[[ 277777.7778 -277777.7778]\n",
      " [-277777.7778  277777.7778]]\n",
      "\n",
      " Matriz local de rigideces en coordenadas globales sin el factor EA: \n",
      "\n",
      "[[ 0.      0.      0.      0.    ]\n",
      " [ 0.      0.0139  0.     -0.0139]\n",
      " [ 0.      0.      0.      0.    ]\n",
      " [ 0.     -0.0139  0.      0.0139]]\n",
      "\n",
      " Matriz local de rigideces en coordenadas globales sin el factor EA: \n",
      "\n",
      "[[      0.           0.           0.           0.    ]\n",
      " [      0.      277777.7778       0.     -277777.7778]\n",
      " [      0.           0.           0.           0.    ]\n",
      " [      0.     -277777.7778       0.      277777.7778]]\n",
      "\n",
      " Matrices locales de rigidez del elemento e3 \n",
      "\n",
      "\n",
      " Matriz local de rigideces en coordenadas locales sin el factor EA: \n",
      "\n",
      "[[ 0.0124 -0.0124]\n",
      " [-0.0124  0.0124]]\n",
      "\n",
      " Matriz local de rigideces en coordenadas locales con el factor EA: \n",
      "\n",
      "[[ 248451.9975 -248451.9975]\n",
      " [-248451.9975  248451.9975]]\n",
      "\n",
      " Matriz local de rigideces en coordenadas globales sin el factor EA: \n",
      "\n",
      "[[ 0.0025  0.005  -0.0025 -0.005 ]\n",
      " [ 0.005   0.0099 -0.005  -0.0099]\n",
      " [-0.0025 -0.005   0.0025  0.005 ]\n",
      " [-0.005  -0.0099  0.005   0.0099]]\n",
      "\n",
      " Matriz local de rigideces en coordenadas globales sin el factor EA: \n",
      "\n",
      "[[  49690.3995   99380.799   -49690.3995  -99380.799 ]\n",
      " [  99380.799   198761.598   -99380.799  -198761.598 ]\n",
      " [ -49690.3995  -99380.799    49690.3995   99380.799 ]\n",
      " [ -99380.799  -198761.598    99380.799   198761.598 ]]\n"
     ]
    }
   ],
   "source": [
    "for key, value in dataEdges.items():\n",
    "    localWithoutEA_L = np.array([[1, -1], [-1, 1]])\n",
    "    # print(value)\n",
    "    cx = value[\"cos\"]\n",
    "    cy = value[\"sin\"]\n",
    "    transformationForces = np.array(\n",
    "        [\n",
    "            [cx, 0],\n",
    "            [cy, 0],\n",
    "            [0, cx],\n",
    "            [0, cy],\n",
    "        ]\n",
    "    )\n",
    "    transformationForcesTranspose = transformationForces.transpose()\n",
    "    value[\"local\"] = {}\n",
    "\n",
    "    value[\"local\"][\"withoutEA_LocalCoordinates\"] = localWithoutEA_L * (\n",
    "        1 / value[\"longitud\"]\n",
    "    )\n",
    "    value[\"local\"][\"complete_LocalCoordinates\"] = localWithoutEA_L * (\n",
    "        (value[\"elasticidad\"] * value[\"area\"]) / value[\"longitud\"]\n",
    "    )\n",
    "    value[\"local\"][\"withoutEA_GlobalCoordinates\"] = np.matmul(\n",
    "        transformationForces,\n",
    "        np.matmul(\n",
    "            value[\"local\"][\"withoutEA_LocalCoordinates\"], transformationForcesTranspose\n",
    "        ),\n",
    "    )\n",
    "    value[\"local\"][\"complete_GlobalCoordinates\"] = np.matmul(\n",
    "        transformationForces,\n",
    "        np.matmul(\n",
    "            value[\"local\"][\"complete_LocalCoordinates\"], transformationForcesTranspose\n",
    "        ),\n",
    "    )\n",
    "    value[\"local\"][\"transformationMatrix\"] = transformationForces\n",
    "\n",
    "    print(f\"\\n Matrices locales de rigidez del elemento {key} \\n\")\n",
    "\n",
    "    print(f\"\\n Matriz local de rigideces en coordenadas locales sin el factor EA: \\n\")\n",
    "    print(value[\"local\"][\"withoutEA_LocalCoordinates\"])\n",
    "    print(f\"\\n Matriz local de rigideces en coordenadas locales con el factor EA: \\n\")\n",
    "    print(value[\"local\"][\"complete_LocalCoordinates\"])\n",
    "    print(f\"\\n Matriz local de rigideces en coordenadas globales sin el factor EA: \\n\")\n",
    "    print(value[\"local\"][\"withoutEA_GlobalCoordinates\"])\n",
    "    print(f\"\\n Matriz local de rigideces en coordenadas globales sin el factor EA: \\n\")\n",
    "    print(value[\"local\"][\"complete_GlobalCoordinates\"])\n"
   ]
  },
  {
   "attachments": {},
   "cell_type": "markdown",
   "metadata": {},
   "source": [
    "### Generando el orden de los grados de libertad"
   ]
  },
  {
   "cell_type": "code",
   "execution_count": 8,
   "metadata": {},
   "outputs": [
    {
     "name": "stdout",
     "output_type": "stream",
     "text": [
      "   name  DOF vertex axis    force displacement  isRestricted\n",
      "0  v2-x    2     v2    x  F_v2_x             0          True\n",
      "1  v2-y    3     v2    y  F_v2_y             0          True\n",
      "2  v3-x    4     v3    x  F_v3_x             0          True\n",
      "3  v3-y    5     v3    y  F_v3_y             0          True\n",
      "4  v4-x    6     v4    x  F_v4_x             0          True\n",
      "5  v4-y    7     v4    y  F_v4_y             0          True\n",
      "6  v1-x    0     v1    x     5000       U_v1_x         False\n",
      "7  v1-y    1     v1    y        0       U_v1_y         False\n"
     ]
    }
   ],
   "source": [
    "restricted = []\n",
    "unrestricted = []\n",
    "\n",
    "for key, value in dataVertices[\"data\"].items():\n",
    "    for axis in dataVertices[\"axis\"]:\n",
    "        data = {}\n",
    "        data[\"name\"] = f\"{key}-{axis}\"\n",
    "        data[\"DOF\"] = value[\"DOF\"][axis]\n",
    "        data[\"vertex\"] = key\n",
    "        data[\"axis\"] = axis\n",
    "\n",
    "        if value[\"isRestricted\"][axis] == True:\n",
    "            data[\"force\"] = f\"F_{key}_{axis} \"\n",
    "            data[\"displacement\"] = value[\"displacements\"][axis]\n",
    "            data[\"isRestricted\"] = True\n",
    "            restricted.append(data)\n",
    "        else:\n",
    "            data[\"force\"] = value[\"forces\"][axis]\n",
    "            data[\"displacement\"] = f\"U_{key}_{axis}\"\n",
    "            data[\"isRestricted\"] = False\n",
    "            unrestricted.append(data)\n",
    "merge = restricted + unrestricted\n",
    "# pprint.pprint(merge)\n",
    "print(pd.DataFrame(merge))\n"
   ]
  },
  {
   "attachments": {},
   "cell_type": "markdown",
   "metadata": {},
   "source": [
    "### Generando el orden para las matrices de fuerza, rigidez y desplazamientos"
   ]
  },
  {
   "cell_type": "code",
   "execution_count": 9,
   "metadata": {},
   "outputs": [
    {
     "name": "stdout",
     "output_type": "stream",
     "text": [
      "{0: {'axis': 'x', 'isRestricted': False, 'position': 6, 'vertex': 'v1'},\n",
      " 1: {'axis': 'y', 'isRestricted': False, 'position': 7, 'vertex': 'v1'},\n",
      " 2: {'axis': 'x', 'isRestricted': True, 'position': 0, 'vertex': 'v2'},\n",
      " 3: {'axis': 'y', 'isRestricted': True, 'position': 1, 'vertex': 'v2'},\n",
      " 4: {'axis': 'x', 'isRestricted': True, 'position': 2, 'vertex': 'v3'},\n",
      " 5: {'axis': 'y', 'isRestricted': True, 'position': 3, 'vertex': 'v3'},\n",
      " 6: {'axis': 'x', 'isRestricted': True, 'position': 4, 'vertex': 'v4'},\n",
      " 7: {'axis': 'y', 'isRestricted': True, 'position': 5, 'vertex': 'v4'}}\n"
     ]
    }
   ],
   "source": [
    "orderOfDOF = {}\n",
    "\n",
    "for index, item in enumerate(merge):\n",
    "    orderOfDOF[item[\"DOF\"]] = {\n",
    "        \"isRestricted\": item[\"isRestricted\"],\n",
    "        \"position\": index,\n",
    "        \"vertex\": item[\"vertex\"],\n",
    "        \"axis\": item[\"axis\"],\n",
    "    }\n",
    "\n",
    "pprint.pprint(orderOfDOF)\n"
   ]
  },
  {
   "attachments": {},
   "cell_type": "markdown",
   "metadata": {},
   "source": [
    "## Matriz global de rigideces"
   ]
  },
  {
   "attachments": {},
   "cell_type": "markdown",
   "metadata": {},
   "source": [
    "###  Creando el metodo ensamblador:"
   ]
  },
  {
   "cell_type": "code",
   "execution_count": 10,
   "metadata": {},
   "outputs": [],
   "source": [
    "def assembler(edge, globalMatrix):\n",
    "    globalMatrixCopy = globalMatrix.copy()\n",
    "    lengthTableDOF = len(edge[\"tableDOF\"])\n",
    "    for i in range(0, lengthTableDOF):\n",
    "        row = orderOfDOF[edge[\"tableDOF\"][i]][\"position\"]\n",
    "        for j in range(0, lengthTableDOF):\n",
    "            column = orderOfDOF[edge[\"tableDOF\"][j]][\"position\"]\n",
    "            globalMatrixCopy[row, column] += edge[\"local\"][\n",
    "                \"complete_GlobalCoordinates\"\n",
    "            ][i][j]\n",
    "    return globalMatrixCopy\n"
   ]
  },
  {
   "attachments": {},
   "cell_type": "markdown",
   "metadata": {},
   "source": [
    "### Creando la matriz global de rigideces"
   ]
  },
  {
   "cell_type": "code",
   "execution_count": 11,
   "metadata": {},
   "outputs": [
    {
     "name": "stdout",
     "output_type": "stream",
     "text": [
      "[[0. 0. 0. 0. 0. 0. 0. 0.]\n",
      " [0. 0. 0. 0. 0. 0. 0. 0.]\n",
      " [0. 0. 0. 0. 0. 0. 0. 0.]\n",
      " [0. 0. 0. 0. 0. 0. 0. 0.]\n",
      " [0. 0. 0. 0. 0. 0. 0. 0.]\n",
      " [0. 0. 0. 0. 0. 0. 0. 0.]\n",
      " [0. 0. 0. 0. 0. 0. 0. 0.]\n",
      " [0. 0. 0. 0. 0. 0. 0. 0.]]\n"
     ]
    }
   ],
   "source": [
    "globalMatrix=np.zeros(\n",
    "    (len(orderOfDOF),len(orderOfDOF))\n",
    ")\n",
    "print(globalMatrix)"
   ]
  },
  {
   "attachments": {},
   "cell_type": "markdown",
   "metadata": {},
   "source": [
    "## Agregando los k correspondientes a los resortes"
   ]
  },
  {
   "cell_type": "code",
   "execution_count": 12,
   "metadata": {},
   "outputs": [
    {
     "name": "stdout",
     "output_type": "stream",
     "text": [
      "     0    1    2    3    4    5    6    7\n",
      "0  0.0  0.0  0.0  0.0  0.0  0.0  0.0  0.0\n",
      "1  0.0  0.0  0.0  0.0  0.0  0.0  0.0  0.0\n",
      "2  0.0  0.0  0.0  0.0  0.0  0.0  0.0  0.0\n",
      "3  0.0  0.0  0.0  0.0  0.0  0.0  0.0  0.0\n",
      "4  0.0  0.0  0.0  0.0  0.0  0.0  0.0  0.0\n",
      "5  0.0  0.0  0.0  0.0  0.0  0.0  0.0  0.0\n",
      "6  0.0  0.0  0.0  0.0  0.0  0.0  0.0  0.0\n",
      "7  0.0  0.0  0.0  0.0  0.0  0.0  0.0  0.0\n"
     ]
    }
   ],
   "source": [
    "for key, value in dataVertices['data'].items():\n",
    "    # pprint.pprint(key)\n",
    "    for key2, value2 in value['springs'].items():\n",
    "        row = orderOfDOF[value[\"DOF\"][key2]]['position']\n",
    "        column = row\n",
    "        globalMatrix[row, column]+=value['springs'][key2]\n",
    "        \n",
    "print(pd.DataFrame(globalMatrix))"
   ]
  },
  {
   "attachments": {},
   "cell_type": "markdown",
   "metadata": {},
   "source": [
    "### Ensamblando la matriz global"
   ]
  },
  {
   "cell_type": "code",
   "execution_count": 13,
   "metadata": {},
   "outputs": [
    {
     "name": "stdout",
     "output_type": "stream",
     "text": [
      "         0         1    2          3        4         5        6          7\n",
      "0  49690.4  -99380.8  0.0       0.00      0.0       0.0 -49690.4   99380.80\n",
      "1 -99380.8  198761.6  0.0       0.00      0.0       0.0  99380.8 -198761.60\n",
      "2      0.0       0.0  0.0       0.00      0.0       0.0      0.0       0.00\n",
      "3      0.0       0.0  0.0  277777.78      0.0       0.0      0.0 -277777.78\n",
      "4      0.0       0.0  0.0       0.00  49690.4   99380.8 -49690.4  -99380.80\n",
      "5      0.0       0.0  0.0       0.00  99380.8  198761.6 -99380.8 -198761.60\n",
      "6 -49690.4   99380.8  0.0       0.00 -49690.4  -99380.8  99380.8       0.00\n",
      "7  99380.8 -198761.6  0.0 -277777.78 -99380.8 -198761.6      0.0  675300.97\n"
     ]
    }
   ],
   "source": [
    "for key,value in dataEdges.items():\n",
    "  globalMatrix=assembler(value,globalMatrix)\n",
    "\n",
    "df=pd.DataFrame(globalMatrix)\n",
    "print(df)"
   ]
  },
  {
   "attachments": {},
   "cell_type": "markdown",
   "metadata": {},
   "source": [
    "## Matriz de fuerzas"
   ]
  },
  {
   "cell_type": "code",
   "execution_count": 14,
   "metadata": {},
   "outputs": [
    {
     "name": "stdout",
     "output_type": "stream",
     "text": [
      "[[0.0], [0.0], [0.0], [0.0], [0.0], [0.0], [0.0], [0.0]]\n"
     ]
    }
   ],
   "source": [
    "globalForces = [[0.0 for i in range(1)] for j in range(len(orderOfDOF))]\n",
    "pprint.pprint(globalForces)\n"
   ]
  },
  {
   "cell_type": "code",
   "execution_count": 15,
   "metadata": {},
   "outputs": [
    {
     "name": "stdout",
     "output_type": "stream",
     "text": [
      "[[''], [''], [''], [''], [''], ['']]\n"
     ]
    }
   ],
   "source": [
    "globalForcesRestricted = [[\"\" for i in range(1)] for j in range(len(restricted))]\n",
    "pprint.pprint(globalForcesRestricted)\n"
   ]
  },
  {
   "cell_type": "code",
   "execution_count": 16,
   "metadata": {},
   "outputs": [
    {
     "name": "stdout",
     "output_type": "stream",
     "text": [
      "[[0.0], [0.0]]\n"
     ]
    }
   ],
   "source": [
    "globalForcesUnrestricted = [[0.0 for i in range(1)] for j in range(len(unrestricted))]\n",
    "pprint.pprint(globalForcesUnrestricted)\n"
   ]
  },
  {
   "cell_type": "code",
   "execution_count": 17,
   "metadata": {},
   "outputs": [],
   "source": [
    "for index, value in enumerate(merge):\n",
    "    globalForces[index][0] = value[\"force\"]\n",
    "    if value[\"isRestricted\"]:\n",
    "        globalForcesRestricted[index][0] = value[\"force\"]\n",
    "    else:\n",
    "        globalForcesUnrestricted[index - len(restricted)][0] = value[\"force\"]\n"
   ]
  },
  {
   "cell_type": "code",
   "execution_count": 18,
   "metadata": {},
   "outputs": [
    {
     "name": "stdout",
     "output_type": "stream",
     "text": [
      "globalForces\n",
      "[['F_v2_x ']\n",
      " ['F_v2_y ']\n",
      " ['F_v3_x ']\n",
      " ['F_v3_y ']\n",
      " ['F_v4_x ']\n",
      " ['F_v4_y ']\n",
      " ['5000']\n",
      " ['0']]\n",
      "\n",
      "\n",
      "globalForcesRestricted\n",
      "[['F_v2_x ']\n",
      " ['F_v2_y ']\n",
      " ['F_v3_x ']\n",
      " ['F_v3_y ']\n",
      " ['F_v4_x ']\n",
      " ['F_v4_y ']]\n",
      "\n",
      "\n",
      "globalForcesUnrestricted\n",
      "[[5000]\n",
      " [   0]]\n"
     ]
    }
   ],
   "source": [
    "print('globalForces')\n",
    "# print(globalForces)\n",
    "# print('numpy')\n",
    "print(np.array(globalForces))\n",
    "print('\\n')\n",
    "print('globalForcesRestricted')\n",
    "# print(globalForcesRestricted)\n",
    "# print('numpy')\n",
    "print(np.array(globalForcesRestricted))\n",
    "print('\\n')\n",
    "print('globalForcesUnrestricted')\n",
    "# print(globalForcesUnrestricted)\n",
    "# print('numpy')\n",
    "print(np.array(globalForcesUnrestricted))"
   ]
  },
  {
   "attachments": {},
   "cell_type": "markdown",
   "metadata": {},
   "source": [
    "## Matriz global de desplazamientos"
   ]
  },
  {
   "cell_type": "code",
   "execution_count": 19,
   "metadata": {},
   "outputs": [],
   "source": [
    "globalDisplacements=[[0.0 for i in range(1)]for j in range(len(merge))]"
   ]
  },
  {
   "cell_type": "code",
   "execution_count": 20,
   "metadata": {},
   "outputs": [],
   "source": [
    "globalDisplacementsRestricted=[[0.0 for i in range(1)]for j in range(len(restricted))]"
   ]
  },
  {
   "cell_type": "code",
   "execution_count": 21,
   "metadata": {},
   "outputs": [],
   "source": [
    "globalDisplacementsUnrestricted=[['' for i in range(1)] for j in range(len(unrestricted))]"
   ]
  },
  {
   "cell_type": "code",
   "execution_count": 22,
   "metadata": {},
   "outputs": [],
   "source": [
    "# for key, value in orderOfDOF.items():\n",
    "#     if value[\"isRestricted\"]:\n",
    "#         globalDisplacements[orderOfDOF[key][\"position\"]][0] = merge[key][\"displacement\"]\n",
    "#         globalDisplacementsRestricted[orderOfDOF[key][\"position\"]][0] = merge[key][\n",
    "#             \"displacement\"\n",
    "#         ]\n",
    "#     else:\n",
    "#         globalDisplacements[orderOfDOF[key][\"position\"]][0] = \"u\" + str(key)\n",
    "#         globalDisplacementsUnrestricted[orderOfDOF[key][\"position\"] - len(restricted)][\n",
    "#             0\n",
    "#         ] = \"u\" + str(key)\n",
    "\n",
    "for index, value in enumerate(merge):\n",
    "    globalDisplacements[index][0] = value[\"displacement\"]\n",
    "    if value[\"isRestricted\"]:\n",
    "        globalDisplacementsRestricted[index][0] = value[\"displacement\"]\n",
    "    else:\n",
    "        globalDisplacementsUnrestricted[index - len(restricted)][0] = value[\n",
    "            \"displacement\"\n",
    "        ]\n"
   ]
  },
  {
   "cell_type": "code",
   "execution_count": 23,
   "metadata": {},
   "outputs": [
    {
     "name": "stdout",
     "output_type": "stream",
     "text": [
      "globalDisplacements\n",
      "[['0']\n",
      " ['0']\n",
      " ['0']\n",
      " ['0']\n",
      " ['0']\n",
      " ['0']\n",
      " ['U_v1_x']\n",
      " ['U_v1_y']]\n",
      "\n",
      "\n",
      "globalDisplacementsRestricted\n",
      "[[0]\n",
      " [0]\n",
      " [0]\n",
      " [0]\n",
      " [0]\n",
      " [0]]\n",
      "\n",
      "\n",
      "globalDisplacementsUnrestricted\n",
      "[['U_v1_x']\n",
      " ['U_v1_y']]\n"
     ]
    }
   ],
   "source": [
    "print('globalDisplacements')\n",
    "# print(globalDisplacements)\n",
    "# print('numpy')\n",
    "print(np.array(globalDisplacements))\n",
    "print('\\n')\n",
    "print('globalDisplacementsRestricted')\n",
    "# print(globalDisplacementsRestricted)\n",
    "# print('numpy')\n",
    "print(np.array(globalDisplacementsRestricted))\n",
    "print('\\n')\n",
    "print('globalDisplacementsUnrestricted')\n",
    "# print(globalDisplacementsUnrestricted)\n",
    "# print('numpy')\n",
    "print(np.array(globalDisplacementsUnrestricted))"
   ]
  },
  {
   "attachments": {},
   "cell_type": "markdown",
   "metadata": {},
   "source": [
    "## Separando la matriz global de rigidez\n",
    "\n",
    "La matriz global de rigideces tiene la forma:\n",
    "$$\n",
    "\\begin{bmatrix}\n",
    "krr & kru\\\\\n",
    "kur & kuu\n",
    "\\end{bmatrix}\n",
    "$$"
   ]
  },
  {
   "cell_type": "code",
   "execution_count": 24,
   "metadata": {},
   "outputs": [
    {
     "name": "stdout",
     "output_type": "stream",
     "text": [
      "krr\n",
      "     0    1    2    3    4    5\n",
      "0  0.0  0.0  0.0  0.0  0.0  0.0\n",
      "1  0.0  0.0  0.0  0.0  0.0  0.0\n",
      "2  0.0  0.0  0.0  0.0  0.0  0.0\n",
      "3  0.0  0.0  0.0  0.0  0.0  0.0\n",
      "4  0.0  0.0  0.0  0.0  0.0  0.0\n",
      "5  0.0  0.0  0.0  0.0  0.0  0.0\n",
      "\n",
      "\n",
      "kru\n",
      "     0    1\n",
      "0  0.0  0.0\n",
      "1  0.0  0.0\n",
      "2  0.0  0.0\n",
      "3  0.0  0.0\n",
      "4  0.0  0.0\n",
      "5  0.0  0.0\n",
      "\n",
      "\n",
      "kur\n",
      "     0    1    2    3    4    5\n",
      "0  0.0  0.0  0.0  0.0  0.0  0.0\n",
      "1  0.0  0.0  0.0  0.0  0.0  0.0\n",
      "\n",
      "\n",
      "krr\n",
      "     0    1\n",
      "0  0.0  0.0\n",
      "1  0.0  0.0\n",
      "\n",
      "\n"
     ]
    }
   ],
   "source": [
    "u = len(unrestricted)\n",
    "r = len(restricted)\n",
    "\n",
    "krr = np.zeros((r, r))\n",
    "print(\"krr\")\n",
    "print(pd.DataFrame(krr))\n",
    "print(\"\\n\")\n",
    "\n",
    "kru = np.zeros((r, u))\n",
    "print(\"kru\")\n",
    "print(pd.DataFrame(kru))\n",
    "print(\"\\n\")\n",
    "\n",
    "kur = np.zeros((u, r))\n",
    "print(\"kur\")\n",
    "print(pd.DataFrame(kur))\n",
    "print(\"\\n\")\n",
    "\n",
    "kuu = np.zeros((u, u))\n",
    "print(\"krr\")\n",
    "print(pd.DataFrame(kuu))\n",
    "print(\"\\n\")\n"
   ]
  },
  {
   "cell_type": "code",
   "execution_count": 25,
   "metadata": {},
   "outputs": [],
   "source": [
    "for i in range(0, r):\n",
    "    for j in range(0, r):\n",
    "        krr[i, j] = globalMatrix[i][j]\n",
    "\n",
    "for i in range(0, r):\n",
    "    for j in range(0, u):\n",
    "        kru[i, j] = globalMatrix[i][j + r]\n",
    "\n",
    "for i in range(0, u):\n",
    "    for j in range(0, r):\n",
    "        kur[i, j] = globalMatrix[i + r][j]\n",
    "\n",
    "for i in range(0, u):\n",
    "    for j in range(0, u):\n",
    "        kuu[i, j] = globalMatrix[i + r][j + r]\n"
   ]
  },
  {
   "cell_type": "code",
   "execution_count": 26,
   "metadata": {},
   "outputs": [
    {
     "name": "stdout",
     "output_type": "stream",
     "text": [
      "krr\n",
      "         0         1    2          3        4         5\n",
      "0  49690.4  -99380.8  0.0       0.00      0.0       0.0\n",
      "1 -99380.8  198761.6  0.0       0.00      0.0       0.0\n",
      "2      0.0       0.0  0.0       0.00      0.0       0.0\n",
      "3      0.0       0.0  0.0  277777.78      0.0       0.0\n",
      "4      0.0       0.0  0.0       0.00  49690.4   99380.8\n",
      "5      0.0       0.0  0.0       0.00  99380.8  198761.6\n",
      "\n",
      "\n",
      "kru\n",
      "         0          1\n",
      "0 -49690.4   99380.80\n",
      "1  99380.8 -198761.60\n",
      "2      0.0       0.00\n",
      "3      0.0 -277777.78\n",
      "4 -49690.4  -99380.80\n",
      "5 -99380.8 -198761.60\n",
      "\n",
      "\n",
      "kur\n",
      "         0         1    2          3        4         5\n",
      "0 -49690.4   99380.8  0.0       0.00 -49690.4  -99380.8\n",
      "1  99380.8 -198761.6  0.0 -277777.78 -99380.8 -198761.6\n",
      "\n",
      "\n",
      "krr\n",
      "         0          1\n",
      "0  99380.8       0.00\n",
      "1      0.0  675300.97\n",
      "\n",
      "\n"
     ]
    }
   ],
   "source": [
    "print('krr')\n",
    "print(pd.DataFrame(krr) )\n",
    "print('\\n')\n",
    "\n",
    "print('kru')\n",
    "print(pd.DataFrame(kru))\n",
    "print('\\n')\n",
    "\n",
    "print('kur')\n",
    "print(pd.DataFrame(kur))\n",
    "print('\\n') \n",
    "\n",
    "print('krr')\n",
    "print(pd.DataFrame(kuu))\n",
    "print('\\n')"
   ]
  },
  {
   "attachments": {},
   "cell_type": "markdown",
   "metadata": {},
   "source": [
    "## Resolviendo desplazamientos"
   ]
  },
  {
   "cell_type": "code",
   "execution_count": 27,
   "metadata": {},
   "outputs": [
    {
     "name": "stdout",
     "output_type": "stream",
     "text": [
      "kr\n",
      "[[ -49690.3995   99380.799        0.           0.      -49690.3995\n",
      "   -99380.799 ]\n",
      " [  99380.799  -198761.598        0.     -277777.7778  -99380.799\n",
      "  -198761.598 ]]\n",
      "Matriz de desplazamientos restringidos\n",
      "[[0], [0], [0], [0], [0], [0]]\n"
     ]
    }
   ],
   "source": [
    "print('kr')\n",
    "print(kur)\n",
    "print('Matriz de desplazamientos restringidos')\n",
    "print(globalDisplacementsRestricted)"
   ]
  },
  {
   "cell_type": "code",
   "execution_count": 28,
   "metadata": {},
   "outputs": [
    {
     "name": "stdout",
     "output_type": "stream",
     "text": [
      "[[0.]\n",
      " [0.]]\n"
     ]
    }
   ],
   "source": [
    "print(np.matmul(kur,globalDisplacementsRestricted))"
   ]
  },
  {
   "cell_type": "code",
   "execution_count": 29,
   "metadata": {},
   "outputs": [
    {
     "name": "stdout",
     "output_type": "stream",
     "text": [
      "[[0.0503]\n",
      " [0.    ]]\n"
     ]
    }
   ],
   "source": [
    "solvedDisplacementUnrestricted = np.matmul(\n",
    "    np.linalg.inv(kuu),\n",
    "    np.subtract(\n",
    "        globalForcesUnrestricted, np.matmul(kur, globalDisplacementsRestricted)\n",
    "    ),\n",
    ")\n",
    "print(solvedDisplacementUnrestricted)\n"
   ]
  },
  {
   "attachments": {},
   "cell_type": "markdown",
   "metadata": {},
   "source": [
    "## Resolviendo fuerzas"
   ]
  },
  {
   "cell_type": "code",
   "execution_count": 30,
   "metadata": {},
   "outputs": [
    {
     "name": "stdout",
     "output_type": "stream",
     "text": [
      "[[-2500.]\n",
      " [ 5000.]\n",
      " [    0.]\n",
      " [    0.]\n",
      " [-2500.]\n",
      " [-5000.]]\n"
     ]
    }
   ],
   "source": [
    "solvedForcesRestricted = np.add(\n",
    "    np.matmul(krr, globalDisplacementsRestricted),\n",
    "    np.matmul(kru, solvedDisplacementUnrestricted),\n",
    ")\n",
    "print(solvedForcesRestricted)\n"
   ]
  },
  {
   "attachments": {},
   "cell_type": "markdown",
   "metadata": {},
   "source": [
    "## Construyendo las matrices globales numericas"
   ]
  },
  {
   "cell_type": "code",
   "execution_count": 31,
   "metadata": {},
   "outputs": [
    {
     "name": "stdout",
     "output_type": "stream",
     "text": [
      "Matriz global de fuerzas\n",
      "[[-2500.]\n",
      " [ 5000.]\n",
      " [    0.]\n",
      " [    0.]\n",
      " [-2500.]\n",
      " [-5000.]\n",
      " [ 5000.]\n",
      " [    0.]]\n"
     ]
    }
   ],
   "source": [
    "solvedGlobalForces = solvedForcesRestricted.tolist() + globalForcesUnrestricted\n",
    "print(\"Matriz global de fuerzas\")\n",
    "print(np.array(solvedGlobalForces))\n"
   ]
  },
  {
   "cell_type": "code",
   "execution_count": 32,
   "metadata": {},
   "outputs": [
    {
     "name": "stdout",
     "output_type": "stream",
     "text": [
      "Matriz global de desplazamientos\n",
      "[[0.    ]\n",
      " [0.    ]\n",
      " [0.    ]\n",
      " [0.    ]\n",
      " [0.    ]\n",
      " [0.    ]\n",
      " [0.0503]\n",
      " [0.    ]]\n"
     ]
    }
   ],
   "source": [
    "solvedGlobalDisplacements=globalDisplacementsRestricted+solvedDisplacementUnrestricted.tolist()\n",
    "print('Matriz global de desplazamientos')\n",
    "print(np.array(solvedGlobalDisplacements))"
   ]
  },
  {
   "attachments": {},
   "cell_type": "markdown",
   "metadata": {},
   "source": [
    "## Agregando los desplazamientos resueltos a cada elemento"
   ]
  },
  {
   "cell_type": "code",
   "execution_count": 33,
   "metadata": {},
   "outputs": [
    {
     "name": "stdout",
     "output_type": "stream",
     "text": [
      "\n",
      " Matriz de desplazamientos del elemento: e1 \n",
      "\n",
      "[0.     0.     0.0503 0.    ]\n",
      "\n",
      " Matriz de desplazamientos del elemento: e2 \n",
      "\n",
      "[0.     0.     0.0503 0.    ]\n",
      "\n",
      " Matriz de desplazamientos del elemento: e3 \n",
      "\n",
      "[0.     0.     0.0503 0.    ]\n"
     ]
    }
   ],
   "source": [
    "for key, value in dataEdges.items():\n",
    "    value[\"solved\"] = {\n",
    "        \"displacements\":[],\n",
    "        }\n",
    "    for DOF in value[\"tableDOF\"]:\n",
    "        value[\"solved\"][\"displacements\"].append(\n",
    "            solvedGlobalDisplacements[orderOfDOF[DOF][\"position\"]][0]\n",
    "        )\n",
    "        # print(DOF)\n",
    "    print(f\"\\n Matriz de desplazamientos del elemento: {key} \\n\")\n",
    "    print(np.array(value[\"solved\"][\"displacements\"]))\n"
   ]
  },
  {
   "attachments": {},
   "cell_type": "markdown",
   "metadata": {},
   "source": [
    "## Calculando las fuerzas internas de cada elemento"
   ]
  },
  {
   "cell_type": "code",
   "execution_count": 34,
   "metadata": {},
   "outputs": [
    {
     "name": "stdout",
     "output_type": "stream",
     "text": [
      "\n",
      " Fuerzas internas para el elemento: e1\n",
      "\n",
      " Matriz local de rigideces en coordenadas locales(k):\n",
      "\n",
      " Fuerzas internas para el elemento: e1\n",
      "[[ 248451.9975 -248451.9975]\n",
      " [-248451.9975  248451.9975]]\n",
      "\n",
      " Matriz de transformacion transpuesta (A^T):\n",
      "[[ 0.4472 -0.8944  0.      0.    ]\n",
      " [ 0.      0.      0.4472 -0.8944]]\n",
      "\n",
      " Matriz de fuerzas del elemento\n",
      "\n",
      " Fuerzas Internas\n",
      "[-5590.1699  5590.1699]\n",
      "\n",
      " Fuerza interna (+ tensión, - compresión)\n",
      "5590.17\n",
      "\n",
      " Fuerzas internas para el elemento: e2\n",
      "\n",
      " Matriz local de rigideces en coordenadas locales(k):\n",
      "\n",
      " Fuerzas internas para el elemento: e2\n",
      "[[ 277777.7778 -277777.7778]\n",
      " [-277777.7778  277777.7778]]\n",
      "\n",
      " Matriz de transformacion transpuesta (A^T):\n",
      "[[ 0. -1.  0.  0.]\n",
      " [ 0.  0.  0. -1.]]\n",
      "\n",
      " Matriz de fuerzas del elemento\n",
      "\n",
      " Fuerzas Internas\n",
      "[0. 0.]\n",
      "\n",
      " Fuerza interna (+ tensión, - compresión)\n",
      "0.0\n",
      "\n",
      " Fuerzas internas para el elemento: e3\n",
      "\n",
      " Matriz local de rigideces en coordenadas locales(k):\n",
      "\n",
      " Fuerzas internas para el elemento: e3\n",
      "[[ 248451.9975 -248451.9975]\n",
      " [-248451.9975  248451.9975]]\n",
      "\n",
      " Matriz de transformacion transpuesta (A^T):\n",
      "[[-0.4472 -0.8944  0.      0.    ]\n",
      " [ 0.      0.     -0.4472 -0.8944]]\n",
      "\n",
      " Matriz de fuerzas del elemento\n",
      "\n",
      " Fuerzas Internas\n",
      "[ 5590.1699 -5590.1699]\n",
      "\n",
      " Fuerza interna (+ tensión, - compresión)\n",
      "-5590.17\n"
     ]
    }
   ],
   "source": [
    "for key, value in dataEdges.items():\n",
    "    fuerzasInternas = np.matmul(\n",
    "        np.matmul(\n",
    "            value[\"local\"][\"complete_LocalCoordinates\"],\n",
    "            value[\"local\"][\"transformationMatrix\"].transpose(),\n",
    "        ),\n",
    "        value[\"solved\"][\"displacements\"],\n",
    "    )\n",
    "    fuerzaInterna = (\n",
    "        value[\"area\"] * value[\"elasticidad\"] / value[\"longitud\"]\n",
    "    ) * np.matmul(\n",
    "        [[-value[\"cos\"], -value[\"sin\"], value[\"cos\"], value[\"sin\"]]],\n",
    "        list(map((lambda x: [x]), value[\"solved\"][\"displacements\"])),\n",
    "    )\n",
    "    value[\"solved\"][\"fuerzaInterna\"] = fuerzaInterna[0][0]\n",
    "\n",
    "    print(f\"\\n Fuerzas internas para el elemento: {key}\")\n",
    "    print(f\"\\n Matriz local de rigideces en coordenadas locales(k):\")\n",
    "    print(f\"\\n Fuerzas internas para el elemento: {key}\")\n",
    "    print(value[\"local\"][\"complete_LocalCoordinates\"])\n",
    "    print(f\"\\n Matriz de transformacion transpuesta (A^T):\")\n",
    "    print(value[\"local\"][\"transformationMatrix\"].transpose())\n",
    "    print(f\"\\n Matriz de fuerzas del elemento\")\n",
    "    print(\"\\n Fuerzas Internas\")\n",
    "    print(fuerzasInternas)\n",
    "    print(\"\\n Fuerza interna (+ tensión, - compresión)\")\n",
    "    print(round(fuerzaInterna[0][0], 3))\n"
   ]
  },
  {
   "attachments": {},
   "cell_type": "markdown",
   "metadata": {},
   "source": [
    "## Resultados finales"
   ]
  },
  {
   "cell_type": "code",
   "execution_count": 35,
   "metadata": {},
   "outputs": [
    {
     "name": "stdout",
     "output_type": "stream",
     "text": [
      "Reacciones: \n",
      "\n",
      "Reacción del vertice v2 en el eje x = -2500.0 \n",
      "\n",
      "Reacción del vertice v2 en el eje y = 5000.0 \n",
      "\n",
      "Reacción del vertice v3 en el eje x = 0.0 \n",
      "\n",
      "Reacción del vertice v3 en el eje y = 0.0 \n",
      "\n",
      "Reacción del vertice v4 en el eje x = -2500.0 \n",
      "\n",
      "Reacción del vertice v4 en el eje y = -5000.0 \n",
      "\n",
      "Fuerzas internas \n",
      "\n",
      "Fuerza en el miembro e1 = 5590.17\n",
      " \n",
      "Fuerza en el miembro e2 = 0.0\n",
      " \n",
      "Fuerza en el miembro e3 = -5590.17\n",
      " \n",
      "Desplazamientos \n",
      "\n",
      "Desplazamiento del vertice v1 en el eje x = 0.05 \n",
      "\n",
      "Desplazamiento del vertice v1 en el eje y = 0.0 \n",
      "\n"
     ]
    }
   ],
   "source": [
    "print(\"Reacciones: \\n\")\n",
    "for key, value in dataVertices[\"data\"].items():\n",
    "    value[\"solved\"] = {\"reaction\": {}}\n",
    "    for axis in dataVertices[\"axis\"]:\n",
    "        if value[\"isRestricted\"][axis]:\n",
    "            reaction = solvedGlobalForces[orderOfDOF[value[\"DOF\"][axis]][\"position\"]][0]\n",
    "            value[\"solved\"][\"reaction\"][axis] = reaction\n",
    "            print(\n",
    "                f\"Reacción del vertice {key} en el eje {axis} = {round(reaction,3) } \\n\"\n",
    "            )\n",
    "\n",
    "print(\"Fuerzas internas \\n\")\n",
    "\n",
    "for key, value in dataEdges.items():\n",
    "    fuerzaInterna = value[\"solved\"][\"fuerzaInterna\"]\n",
    "    print(f\"Fuerza en el miembro {key} = {round(fuerzaInterna,3)}\\n \")\n",
    "\n",
    "print(\"Desplazamientos \\n\")\n",
    "\n",
    "for key, value in dataVertices[\"data\"].items():\n",
    "    value[\"solved\"] = {\"displacement\": {}}\n",
    "    for axis in dataVertices[\"axis\"]:\n",
    "        if not(value[\"isRestricted\"][axis]):\n",
    "            displacement = solvedGlobalDisplacements[orderOfDOF[value[\"DOF\"][axis]][\"position\"]][0]\n",
    "            print(\n",
    "                f\"Desplazamiento del vertice {key} en el eje {axis} = {round(displacement,3) } \\n\"\n",
    "            )\n",
    "\n"
   ]
  },
  {
   "attachments": {},
   "cell_type": "markdown",
   "metadata": {},
   "source": [
    "## Esquema de los resultados"
   ]
  },
  {
   "attachments": {},
   "cell_type": "markdown",
   "metadata": {},
   "source": [
    "### Miembros en tensión, compresión."
   ]
  },
  {
   "cell_type": "code",
   "execution_count": 36,
   "metadata": {},
   "outputs": [
    {
     "data": {
      "image/png": "[encoded data removed]",
      "text/plain": [
       "<Figure size 640x480 with 1 Axes>"
      ]
     },
     "metadata": {},
     "output_type": "display_data"
    }
   ],
   "source": [
    "numberOfDecimals = 2\n",
    "\n",
    "fig = plt.figure()\n",
    "axes = fig.add_axes([0.1,0.1,2,2])\n",
    "fig.gca().set_aspect('equal',adjustable='box')\n",
    "\n",
    "for key, value in dataEdges.items():\n",
    "    xi = value[\"coordinates\"][\"xi\"]\n",
    "    yi = value[\"coordinates\"][\"yi\"]\n",
    "    xj = value[\"coordinates\"][\"xj\"]\n",
    "    yj = value[\"coordinates\"][\"yj\"]\n",
    "    if (abs(value['solved']['fuerzaInterna'])<0.001):\n",
    "        axes.plot([xi, xj], [yi, yj], \"grey\",linestyle='--')\n",
    "    elif value['solved']['fuerzaInterna']>0:\n",
    "        axes.plot([xi, xj], [yi, yj], \"g\")\n",
    "    elif value['solved']['fuerzaInterna']<0:\n",
    "        axes.plot([xi, xj], [yi, yj], \"r\")\n",
    "\n",
    "    roundForce=round(value['solved']['fuerzaInterna'],numberOfDecimals)\n",
    "\n",
    "    xMid=(xi+xj)/2\n",
    "    yMid=(yi+yj)/2\n",
    "    \n",
    "    axes.text(xMid,yMid,str(roundForce),fontsize=12)\n",
    "\n",
    "    # print(value['solved']['fuerzaInterna'])\n"
   ]
  },
  {
   "cell_type": "code",
   "execution_count": 37,
   "metadata": {},
   "outputs": [
    {
     "data": {
      "image/png": "[encoded data removed]",
      "text/plain": [
       "<Figure size 640x480 with 1 Axes>"
      ]
     },
     "metadata": {},
     "output_type": "display_data"
    }
   ],
   "source": [
    "factorScale = 500\n",
    "\n",
    "esquema = plt.figure()\n",
    "axes = esquema.add_axes([0.1, 0.1, 2, 2])\n",
    "esquema.gca().set_aspect('equal',adjustable='box')\n",
    "\n",
    "for key, value in dataEdges.items():\n",
    "    xi = value[\"coordinates\"][\"xi\"] + value[\"solved\"][\"displacements\"][0] * factorScale\n",
    "    yi = value[\"coordinates\"][\"yi\"] + value[\"solved\"][\"displacements\"][1] * factorScale\n",
    "    xj = value[\"coordinates\"][\"xj\"] + value[\"solved\"][\"displacements\"][2] * factorScale\n",
    "    yj = value[\"coordinates\"][\"yj\"] + value[\"solved\"][\"displacements\"][3] * factorScale\n",
    "    axes.plot([xi, xj], [yi, yj], \"b\")\n",
    "for key, value in dataVertices[\"data\"].items():\n",
    "    axes.plot([value[\"coordinates\"][\"x\"]], [value[\"coordinates\"][\"y\"]], \"bo\")\n",
    "\n",
    "axes.set_xlabel(\"Distance (m)\")\n",
    "axes.set_ylabel(\"Distance (m)\")\n",
    "axes.set_title(\"Structure to analyse\")\n",
    "axes.grid()\n",
    "plt.show()"
   ]
  }
 ],
 "metadata": {
  "kernelspec": {
   "display_name": "env-armor2D",
   "language": "python",
   "name": "python3"
  },
  "language_info": {
   "codemirror_mode": {
    "name": "ipython",
    "version": 3
   },
   "file_extension": ".py",
   "mimetype": "text/x-python",
   "name": "python",
   "nbconvert_exporter": "python",
   "pygments_lexer": "ipython3",
   "version": "3.11.0"
  },
  "orig_nbformat": 4
 },
 "nbformat": 4,
 "nbformat_minor": 2
}
